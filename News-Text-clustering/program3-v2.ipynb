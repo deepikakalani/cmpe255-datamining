{
 "cells": [
  {
   "cell_type": "code",
   "execution_count": 144,
   "metadata": {
    "collapsed": true
   },
   "outputs": [],
   "source": [
    "import numpy as np\n",
    "import pandas as pd\n",
    "import scipy.sparse as sp\n",
    "from scipy.sparse import csr_matrix\n",
    "from collections import defaultdict"
   ]
  },
  {
   "cell_type": "code",
   "execution_count": 145,
   "metadata": {
    "collapsed": true
   },
   "outputs": [],
   "source": [
    "def read_data():\n",
    "    data = list()\n",
    "    filename = 'train.dat'\n",
    "    f = open(filename, 'r')\n",
    "    for document in f:\n",
    "        data.append(document.rstrip())\n",
    "    return data\n",
    "\n",
    "    \n",
    "def preprocess(data):    \n",
    "    remove_space = list()\n",
    "    for doc in data:\n",
    "        remove_space.append(doc.split(\" \"))\n",
    "\n",
    "    term = list()\n",
    "    frequency = list()\n",
    "\n",
    "    for doc in remove_space:\n",
    "        l1 = list()\n",
    "        l2 = list()\n",
    "        for i in range(0, len(doc), 2):\n",
    "            l1.append(doc[i])\n",
    "        for i in range(1, len(doc), 2):\n",
    "            l2.append(doc[i])\n",
    "        term.append(l1)\n",
    "        frequency.append(l2)\n",
    "        \n",
    "    return term, frequency\n"
   ]
  },
  {
   "cell_type": "code",
   "execution_count": 146,
   "metadata": {
    "collapsed": true
   },
   "outputs": [],
   "source": [
    "def build_dict(terms):\n",
    "    num_rows = len(terms)\n",
    "    dict_words = {}\n",
    "    tid = 0\n",
    "    nnz = 0\n",
    "    num_cols = 0\n",
    "    for t in terms:\n",
    "        nnz += len(t)\n",
    "        for w in t:\n",
    "            if w not in dict_words:\n",
    "                dict_words[w] = tid\n",
    "                tid += 1\n",
    "                \n",
    "    num_cols = len(dict_words)\n",
    "    return num_rows, num_cols, nnz\n",
    "    \n",
    "def build_csr(term, frequency, nnz, num_rows, num_cols):\n",
    "    ind = np.zeros(nnz, dtype=np.int)\n",
    "    val = np.zeros(nnz, dtype=np.int)\n",
    "    ptr = np.zeros(num_rows+1, dtype=np.int)\n",
    "    n = 0\n",
    "    i = 0\n",
    "    for (index, value) in zip(term, frequency):\n",
    "        l = len(index)\n",
    "        for j in range(l):\n",
    "            ind[n + j] = index[j]\n",
    "            val[n + j] = value[j]\n",
    "        ptr[i+1] = ptr[i] + l\n",
    "        n += l\n",
    "        i += 1\n",
    "    print \n",
    "    mat = csr_matrix((val, ind, ptr), shape=(num_rows, max(ind)+1), dtype=np.int)\n",
    "    mat.sort_indices()\n",
    "    \n",
    "    return mat"
   ]
  },
  {
   "cell_type": "code",
   "execution_count": 147,
   "metadata": {
    "collapsed": true
   },
   "outputs": [],
   "source": [
    "\n",
    "def cluster_indexing(mat, centroids):\n",
    "    \n",
    "    index = list()\n",
    "    similarity_mat = mat.dot(centroids.T)   \n",
    "    for i in range(similarity_mat.shape[0]):\n",
    "        row = similarity_mat[i]\n",
    "        top_index = row.argmax(axis = 0).any()\n",
    "        index.append(top_index + 1)\n",
    "    return index\n",
    "\n",
    "def calculate_centroids(mat, idx, k):    \n",
    "    centroids = list()\n",
    "    for i in range(1,k+1):\n",
    "        indi = [j for j, x in enumerate(idx) if x == i]        \n",
    "        items = mat[indi,:]\n",
    "        if (items.shape[0] > 1):\n",
    "            centroids.append(np.mean(items, axis=0))            \n",
    "    centroids = np.array(centroids)\n",
    "    return centroids"
   ]
  },
  {
   "cell_type": "code",
   "execution_count": 148,
   "metadata": {
    "collapsed": true
   },
   "outputs": [],
   "source": [
    "from sklearn.utils import shuffle\n",
    "def kmeans(k, mat, n_iter):\n",
    "    centroids = shuffle(mat, n_samples=k)\n",
    "    for i in range(n_iter):\n",
    "        index = cluster_indexing(mat, centroids)\n",
    "        centroids = calculate_centroids(mat, index, k)\n",
    "    return index"
   ]
  },
  {
   "cell_type": "code",
   "execution_count": 149,
   "metadata": {
    "collapsed": true
   },
   "outputs": [],
   "source": [
    "def calculateSSE(cluster, mat, k):\n",
    "    sse = 0\n",
    "    ret = 0\n",
    "    for i in range(1,k+1):\n",
    "        indi = [j for j, x in enumerate(cluster) if x == i]       \n",
    "        items = mat[indi,:]\n",
    "        if (items.shape[0] > 1):\n",
    "            mean = np.mean(items, axis=0)\n",
    "            sse = items - mean\n",
    "            sse_sq = np.square(sse)\n",
    "            ret += sse_sq.sum()\n",
    "    return ret"
   ]
  },
  {
   "cell_type": "code",
   "execution_count": 150,
   "metadata": {
    "collapsed": true
   },
   "outputs": [],
   "source": [
    "import sys\n",
    "def next_cluster(cluster, k):\n",
    "    max_count = 0\n",
    "    for i in range(1,k+1):\n",
    "        index = [j for j, x in enumerate(cluster) if x == i]\n",
    "        sum_index = len(index)\n",
    "        if(max_count < sum_index):\n",
    "            max_count = sum_index\n",
    "            max_i = i\n",
    "    return max_i, max_count"
   ]
  },
  {
   "cell_type": "code",
   "execution_count": 151,
   "metadata": {
    "collapsed": true
   },
   "outputs": [],
   "source": [
    "import sys\n",
    "def bisectingKmeans(n_iter, mat, k):\n",
    "    \n",
    "    res_cluster = np.ones(mat.shape[0], dtype= np.int)    \n",
    "    min_sse = sys.maxsize\n",
    "    orig_mat = mat\n",
    "    \n",
    "    for i in range(2, k+1):\n",
    "        \n",
    "        print(\"Bisect... k = %d \" % (i))\n",
    "        min_sse = sys.maxsize\n",
    "        for j in range(n_iter):\n",
    "            \n",
    "            cluster = kmeans(2, mat, 20)\n",
    "            sse = calculateSSE(cluster, mat, i)\n",
    "            if sse < min_sse:\n",
    "                min_sse = sse\n",
    "                min_cluster = cluster\n",
    "        \n",
    "        if(i > 2):\n",
    "            for j in range(len(min_cluster)):\n",
    "                if(min_cluster[j] == 1):\n",
    "                    res_cluster[index[j]] = i\n",
    "                else:\n",
    "                    res_cluster[index[j]] = n_cluster_num\n",
    "        if(i == 2): \n",
    "            res_cluster = min_cluster\n",
    "        n_cluster_num, count = next_cluster(res_cluster, i)\n",
    "        index = [j for j, x in enumerate(res_cluster) if x == n_cluster_num]\n",
    "        \n",
    "        mat = orig_mat[index, :]\n",
    "    return res_cluster"
   ]
  },
  {
   "cell_type": "code",
   "execution_count": 152,
   "metadata": {},
   "outputs": [
    {
     "name": "stdout",
     "output_type": "stream",
     "text": [
      "\n"
     ]
    },
    {
     "data": {
      "text/plain": [
       "(8580, 126356)"
      ]
     },
     "execution_count": 152,
     "metadata": {},
     "output_type": "execute_result"
    }
   ],
   "source": [
    "\n",
    "data = read_data()\n",
    "terms, frequency = preprocess(data)\n",
    "num_rows, num_cols, nnz = build_dict(terms)\n",
    "#print num_rows, num_cols\n",
    "\n",
    "mat = build_csr(terms, frequency, nnz, num_rows, num_cols)\n",
    "mat.shape\n"
   ]
  },
  {
   "cell_type": "code",
   "execution_count": 104,
   "metadata": {},
   "outputs": [
    {
     "data": {
      "text/plain": [
       "(8580, 1000)"
      ]
     },
     "execution_count": 104,
     "metadata": {},
     "output_type": "execute_result"
    }
   ],
   "source": [
    "from sklearn.decomposition import TruncatedSVD\n",
    "\n",
    "svd = TruncatedSVD(n_components=1000, n_iter=7)\n",
    "svd.fit(mat)\n",
    "mat_svd = svd.transform(mat)\n",
    "#X_test_svd = svd.transform(xTest)\n",
    "\n",
    "mat_svd.shape"
   ]
  },
  {
   "cell_type": "code",
   "execution_count": 163,
   "metadata": {},
   "outputs": [
    {
     "name": "stdout",
     "output_type": "stream",
     "text": [
      "Bisect... k = 2 \n",
      "Bisect... k = 3 \n",
      "Bisect... k = 4 \n",
      "Bisect... k = 5 \n",
      "Bisect... k = 6 \n",
      "Bisect... k = 7 \n",
      "4164805.81448\n"
     ]
    }
   ],
   "source": [
    "cluster = bisectingKmeans(11, mat_svd, 7)\n",
    "sse = calculateSSE(cluster, mat_svd, 7)\n",
    "print sse"
   ]
  },
  {
   "cell_type": "code",
   "execution_count": 125,
   "metadata": {
    "collapsed": true
   },
   "outputs": [],
   "source": [
    "#Writing to a file.\n",
    "text_file = open(\"output17.dat\", \"w\")\n",
    "for i in cluster:\n",
    "    text_file.write(str(i) +'\\n')\n",
    "text_file.close()"
   ]
  },
  {
   "cell_type": "code",
   "execution_count": 164,
   "metadata": {},
   "outputs": [
    {
     "data": {
      "image/png": "[encoded data removed]",
      "text/plain": [
       "<matplotlib.figure.Figure at 0x7ff26fc7bcd0>"
      ]
     },
     "metadata": {},
     "output_type": "display_data"
    }
   ],
   "source": [
    "import pandas as pd\n",
    "import numpy as np\n",
    "import matplotlib.pyplot as plt\n",
    "pd.__version__\n",
    "%matplotlib inline\n",
    "\n",
    "\n",
    "df = pd.read_csv('sample1.csv', header=None)\n",
    "\n",
    "\n",
    "df[['k', 'sse']] = df[[0, 1]]\n",
    "fig, ax = plt.subplots(figsize=(7, 5))\n",
    "ax.set_xlabel(\"k\",fontsize=12)\n",
    "ax.set_ylabel(\"SSE\",fontsize=12)\n",
    "df.plot(kind='line', x='k', y='sse', ax=ax)\n",
    "#comp.plot(\"ds\", \"delta\", ax=ax)\n",
    "fig.autofmt_xdate(bottom=0.2, rotation=30, ha='right');"
   ]
  },
  {
   "cell_type": "code",
   "execution_count": null,
   "metadata": {
    "collapsed": true
   },
   "outputs": [],
   "source": []
  }
 ],
 "metadata": {
  "kernelspec": {
   "display_name": "Python 2",
   "language": "python",
   "name": "python2"
  },
  "language_info": {
   "codemirror_mode": {
    "name": "ipython",
    "version": 2
   },
   "file_extension": ".py",
   "mimetype": "text/x-python",
   "name": "python",
   "nbconvert_exporter": "python",
   "pygments_lexer": "ipython2",
   "version": "2.7.14"
  }
 },
 "nbformat": 4,
 "nbformat_minor": 2
}
